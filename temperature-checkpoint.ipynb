{
 "cells": [
  {
   "cell_type": "markdown",
   "metadata": {},
   "source": [
    "<img src=\"https://bit.ly/2VnXWr2\" width=\"100\" align=\"left\">"
   ]
  },
  {
   "cell_type": "markdown",
   "metadata": {},
   "source": [
    "# Temperature Sensor\n",
    "\n",
    "There is a temperature sensor in the processor of your company's server. The company wants to analyze the data provided by the sensor to decide if they should change the cooling system for a better one. As changing the cooling system is expensive and you are an excellent data analyst, you can't make a decision without basis.\n",
    "\n",
    "## Tools\n",
    "You don't necessarily need to use all the tools. Maybe you opt to use some of them or completely different ones, they are given to help you shape the exercise. Programming exercises can be solved in many different ways.\n",
    "1. Data structures: **lists**\n",
    "2. Loops: **list comprehension**\n",
    "3. Functions: **min, max, print, len**\n",
    "4. Conditional statements: **if-elif-else**\n",
    "\n",
    "## Tasks\n",
    "The temperatures measured throughout the 24 hours of a day are:"
   ]
  },
  {
   "cell_type": "code",
   "execution_count": null,
   "metadata": {},
   "outputs": [],
   "source": [
    "temperatures_C = [33, 66, 65, 0, 59, 60, 62, 64, 70, 76, 80, 81, 80, 83, 90, 79, 61, 53, 50, 49, 53, 48, 45, 39]"
   ]
  },
  {
   "cell_type": "markdown",
   "metadata": {},
   "source": [
    "The first element of the list is the temperature at 12am, the second element is the temperature at 1am, and so on. \n",
    "\n",
    "The company has decided that if one of the following events occurs, then the cooling system needs to be replaced for a new one to avoid damaging the processor.\n",
    "* More than 4 temperatures are greater than or equal to 70ºC.\n",
    "* Any temperature is above 80ºC.\n",
    "* The average temperature exceeds 65ºC.\n",
    "\n",
    "Follow the steps so that you can make the decision.\n",
    "\n",
    "#### 1. Find the minimum temperature of the day and store it in a variable."
   ]
  },
  {
   "cell_type": "code",
   "execution_count": 1,
   "metadata": {},
   "outputs": [
    {
     "name": "stdout",
     "output_type": "stream",
     "text": [
      "0\n"
     ]
    }
   ],
   "source": [
    "temperatures_C = [33, 66, 65, 0, 59, 60, 62, 64, 70, 76, 80, 81, 80, 83, 90, 79, 61, 53, 50, 49, 53, 48, 45, 39]\n",
    "print(min(temperatures_C))"
   ]
  },
  {
   "cell_type": "markdown",
   "metadata": {},
   "source": [
    "#### 2. Find the maximum temperature of the day and store it in a variable."
   ]
  },
  {
   "cell_type": "code",
   "execution_count": 2,
   "metadata": {},
   "outputs": [
    {
     "name": "stdout",
     "output_type": "stream",
     "text": [
      "90\n"
     ]
    }
   ],
   "source": [
    "print(max(temperatures_C))"
   ]
  },
  {
   "cell_type": "markdown",
   "metadata": {},
   "source": [
    "#### 3. Create a list with the temperatures that are greater than or equal to 70ºC. Store it in a variable."
   ]
  },
  {
   "cell_type": "code",
   "execution_count": 3,
   "metadata": {},
   "outputs": [
    {
     "name": "stdout",
     "output_type": "stream",
     "text": [
      "[70, 76, 80, 81, 80, 83, 90, 79]\n"
     ]
    }
   ],
   "source": [
    "t=[]\n",
    "\n",
    "for c in temperatures_C:\n",
    "    if c>=70:\n",
    "        t.append(c)\n",
    "print(t)"
   ]
  },
  {
   "cell_type": "markdown",
   "metadata": {},
   "source": [
    "#### 4. Find the average temperature of the day and store it in a variable."
   ]
  },
  {
   "cell_type": "code",
   "execution_count": 4,
   "metadata": {},
   "outputs": [
    {
     "name": "stdout",
     "output_type": "stream",
     "text": [
      "60.25\n"
     ]
    }
   ],
   "source": [
    "average=sum(temperatures_C)/len(temperatures_C)\n",
    "print(average)"
   ]
  },
  {
   "cell_type": "markdown",
   "metadata": {},
   "source": [
    "#### 5. Imagine that there was a sensor failure at 3am and the data for that specific hour was not recorded. How would you estimate the missing value? Replace the current value of the list at 3am for an estimation. "
   ]
  },
  {
   "cell_type": "code",
   "execution_count": 5,
   "metadata": {},
   "outputs": [
    {
     "name": "stdout",
     "output_type": "stream",
     "text": [
      "[33, 66, 65, 62, 59, 60, 62, 64, 70, 76, 80, 81, 80, 83, 90, 79, 61, 53, 50, 49, 53, 48, 45, 39]\n"
     ]
    }
   ],
   "source": [
    "del(temperatures_C[3])\n",
    "t_estim=int(sum(temperatures_C)/len(temperatures_C))\n",
    "temperatures_C.insert(3,t_estim)\n",
    "print(temperatures_C)"
   ]
  },
  {
   "cell_type": "markdown",
   "metadata": {},
   "source": [
    "#### 6. Bonus: the maintenance staff is from the United States and does not understand the international metric system. Help them by converting the temperatures from Celsius to Fahrenheit.\n",
    "To know more about temperature conversion check this [link](https://en.wikipedia.org/wiki/Conversion_of_units_of_temperature).\n",
    "\n",
    "**Formula**: \n",
    "\n",
    "$F = 1.8 * C + 32$"
   ]
  },
  {
   "cell_type": "code",
   "execution_count": 6,
   "metadata": {},
   "outputs": [
    {
     "name": "stdout",
     "output_type": "stream",
     "text": [
      "[91, 150, 149, 143, 138, 140, 143, 147, 158, 168, 176, 177, 176, 181, 194, 174, 141, 127, 122, 120, 127, 118, 113, 102]\n"
     ]
    }
   ],
   "source": [
    "temperatures_F=[]\n",
    "for cel in temperatures_C:\n",
    "    f=1.8*cel+32\n",
    "    temperatures_F.append(int(f))\n",
    "print(temperatures_F)"
   ]
  },
  {
   "cell_type": "markdown",
   "metadata": {},
   "source": [
    "#### 7. Make a decision!\n",
    "Now it's time to make a decision taking into account what you have seen until now. \n",
    "\n",
    "Remember that if one of the following events occurs, then the cooling system needs to be replaced for a new one to avoid damaging the processor.\n",
    "* More than 4 temperatures are greater than or equal to 70ºC.\n",
    "* Any temperature is above 80ºC.\n",
    "* The average temperature exceeds 65ºC.\n",
    "\n",
    "#### To make your decision, check if any of the three conditions above is met. You might need to use some of the variables you created in steps 1 to 6. Print a message to show if the cooling system needs to be changed or not."
   ]
  },
  {
   "cell_type": "code",
   "execution_count": 7,
   "metadata": {},
   "outputs": [
    {
     "name": "stdout",
     "output_type": "stream",
     "text": [
      "8 temperatures are greater than or equal to 70C. Cooling system needs to be changed.\n",
      "3 temperatures are above 80C. Cooling system needs to be changed.\n"
     ]
    }
   ],
   "source": [
    "m=0\n",
    "above=0\n",
    "decision=0\n",
    "for d in temperatures_C:\n",
    "    if d>=70:\n",
    "        m+=1\n",
    "        if m>4:\n",
    "            decision+=1\n",
    "for e in temperatures_C:\n",
    "    if e>80:\n",
    "        decision+=1\n",
    "        above+=1\n",
    "if sum(temperatures_C)/len(temperatures_C)>65:\n",
    "    decision+=1\n",
    "    print(f'the average temprature ({sum(temperatures_C)/len(temperatures_C)}) exceeds 65. Cooling system needs to be changed.')\n",
    "\n",
    "if decision==0:\n",
    "    print('Cooling system doesnt need to be changed.')\n",
    "else:\n",
    "    if m>4:\n",
    "        print(f'{m} temperatures are greater than or equal to 70C. Cooling system needs to be changed.')\n",
    "    if above!=0:\n",
    "        print(f'{above} temperatures are above 80C. Cooling system needs to be changed.')"
   ]
  },
  {
   "cell_type": "markdown",
   "metadata": {},
   "source": [
    "## Bonus\n",
    "\n",
    "The company has decided that the decision you made is not valid. They want you to analyze the data again but this time, the conditions that need to be met in order to change the cooling system are different.\n",
    "\n",
    "This time, if one of the following events occurs, then the cooling system needs to be replaced:\n",
    "* The temperature is greater than 70ºC during more than 4 consecutive hours.\n",
    "* Any temperature is above 80ºC.\n",
    "* The average temperature exceeds 65ºC.\n",
    "\n",
    "Follow the steps so that you can make the decision.\n",
    "\n",
    "#### 1. Create a list with the hours where the temperature is greater than 70ºC. Store it in a variable."
   ]
  },
  {
   "cell_type": "code",
   "execution_count": 9,
   "metadata": {},
   "outputs": [
    {
     "name": "stdout",
     "output_type": "stream",
     "text": [
      "[9, 10, 11, 12, 13, 14, 15]\n"
     ]
    }
   ],
   "source": [
    "list_70=[]\n",
    "hour=[]\n",
    "\n",
    "for a, b in enumerate(temperatures_C):\n",
    "    if b>70:\n",
    "        list_70.append(b)\n",
    "        hour.append(a)\n",
    "print(hour)"
   ]
  },
  {
   "cell_type": "markdown",
   "metadata": {},
   "source": [
    "#### 2. Check if the list you created in step 1 has more than 4 consecutive hours. "
   ]
  },
  {
   "cell_type": "code",
   "execution_count": 11,
   "metadata": {},
   "outputs": [
    {
     "name": "stdout",
     "output_type": "stream",
     "text": [
      "7 consecutive hours has greater than 70.\n"
     ]
    }
   ],
   "source": [
    "conse=0\n",
    "for c,z in enumerate(hour):\n",
    "    if hour[c]-hour[c-1]==1:\n",
    "        conse+=1\n",
    "    else:\n",
    "        conse=0\n",
    "if conse>=4:\n",
    "    print(f'{conse+1} consecutive hours has greater than 70.')\n"
   ]
  },
  {
   "cell_type": "markdown",
   "metadata": {},
   "source": [
    "#### 3. Make the decision!\n",
    "To make your decision, check if any of the three conditions is met. Print a message to show if the cooling system needs to be changed or not."
   ]
  },
  {
   "cell_type": "code",
   "execution_count": 13,
   "metadata": {},
   "outputs": [
    {
     "name": "stdout",
     "output_type": "stream",
     "text": [
      "7 consecutive hours has greater than 70. Cooling system needs to be changed.\n",
      "3 temperatures are above 80C. Cooling system needs to be changed.\n"
     ]
    }
   ],
   "source": [
    "above=0\n",
    "decision=0\n",
    "conse=0\n",
    "for c,z in enumerate(hour):\n",
    "    if hour[c]-hour[c-1]==1:\n",
    "        conse+=1\n",
    "    else:\n",
    "        conse=0\n",
    "if conse>=4:\n",
    "    decision+=1\n",
    "    print(f'{conse+1} consecutive hours has greater than 70. Cooling system needs to be changed.')\n",
    "for e in temperatures_C:\n",
    "    if e>80:\n",
    "        decision+=1\n",
    "        above+=1\n",
    "if sum(temperatures_C)/len(temperatures_C)>65:\n",
    "    decision+=1\n",
    "    print(f'the average temprature ({sum(temperatures_C)/len(temperatures_C)}) exceeds 65. Cooling system needs to be changed.')\n",
    "\n",
    "if decision==0:\n",
    "    print('Cooling system doesnt need to be changed.')\n",
    "else:\n",
    "\n",
    "    if above!=0:\n",
    "        print(f'{above} temperatures are above 80C. Cooling system needs to be changed.')"
   ]
  },
  {
   "cell_type": "markdown",
   "metadata": {},
   "source": [
    "#### 4. Find the average value of the temperature lists (ºC and ºF). What is the relation between both average values?"
   ]
  },
  {
   "cell_type": "code",
   "execution_count": 14,
   "metadata": {},
   "outputs": [
    {
     "name": "stdout",
     "output_type": "stream",
     "text": [
      "62\n",
      "144\n",
      "0.4305555555555556\n"
     ]
    }
   ],
   "source": [
    "temperatures_F=[]\n",
    "for i in temperatures_C:\n",
    "    temperatures_F.append(int(i*1.8+32))\n",
    "average_C=int(sum(temperatures_C)/len(temperatures_C))\n",
    "average_F=int(sum(temperatures_F)/len(temperatures_F))\n",
    "print(f'Aveage value of the temperature C is {average_C}')\n",
    "print(f'Aveage value of the temperature F is {average_F}')\n",
    "print(f'the relation betwwen both average values is {average_C/average_F}')"
   ]
  },
  {
   "cell_type": "markdown",
   "metadata": {},
   "source": [
    "#### 5. Find the standard deviation of the temperature lists (ºC and ºF). What is the relation between both standard deviations?"
   ]
  },
  {
   "cell_type": "code",
   "execution_count": 17,
   "metadata": {},
   "outputs": [
    {
     "name": "stdout",
     "output_type": "stream",
     "text": [
      "The standard deviation of the temperature C is 14\n",
      "The standard deviation of the temperature F is 26\n",
      "the relation between both standard deviations is 0.5556804060990875\n"
     ]
    }
   ],
   "source": [
    "import statistics\n",
    "dev_C=statistics.stdev(temperatures_C)\n",
    "dev_F=statistics.stdev(temperatures_F)\n",
    "print(f'The standard deviation of the temperature C is {int(dev_C)}')\n",
    "print(f'The standard deviation of the temperature F is {int(dev_F)}')\n",
    "print(f'the relation between both standard deviations is {dev_C/dev_F}')"
   ]
  },
  {
   "cell_type": "code",
   "execution_count": null,
   "metadata": {},
   "outputs": [],
   "source": []
  }
 ],
 "metadata": {
  "kernelspec": {
   "display_name": "Python 3",
   "language": "python",
   "name": "python3"
  },
  "language_info": {
   "codemirror_mode": {
    "name": "ipython",
    "version": 3
   },
   "file_extension": ".py",
   "mimetype": "text/x-python",
   "name": "python",
   "nbconvert_exporter": "python",
   "pygments_lexer": "ipython3",
   "version": "3.8.5"
  }
 },
 "nbformat": 4,
 "nbformat_minor": 2
}
